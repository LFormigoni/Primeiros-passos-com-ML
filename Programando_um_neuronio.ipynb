{
  "nbformat": 4,
  "nbformat_minor": 0,
  "metadata": {
    "colab": {
      "name": "Programando um neuronio ",
      "provenance": [],
      "authorship_tag": "ABX9TyMoF1HOPiH+rIrE/JSYrbsB",
      "include_colab_link": true
    },
    "kernelspec": {
      "name": "python3",
      "display_name": "Python 3"
    },
    "language_info": {
      "name": "python"
    }
  },
  "cells": [
    {
      "cell_type": "markdown",
      "metadata": {
        "id": "view-in-github",
        "colab_type": "text"
      },
      "source": [
        "<a href=\"https://colab.research.google.com/github/LFormigoni/Primeiros-passos-com-ML/blob/main/Programando_um_neuronio.ipynb\" target=\"_parent\"><img src=\"https://colab.research.google.com/assets/colab-badge.svg\" alt=\"Open In Colab\"/></a>"
      ]
    },
    {
      "cell_type": "markdown",
      "metadata": {
        "id": "dIv2s2KjJXHb"
      },
      "source": [
        "Importa a biblioteca numpy"
      ]
    },
    {
      "cell_type": "code",
      "metadata": {
        "id": "cndAXkAQ_1OK"
      },
      "source": [
        "import numpy as np\n"
      ],
      "execution_count": 39,
      "outputs": []
    },
    {
      "cell_type": "markdown",
      "metadata": {
        "id": "7D0Es5JwJait"
      },
      "source": [
        "Define e descreve uma função sigmoide da forma explicita em return.\n",
        "\n",
        "Essa função vai gerar valores entre o intervalo [0,1]"
      ]
    },
    {
      "cell_type": "code",
      "metadata": {
        "id": "WRSFbczX_8eU"
      },
      "source": [
        "def sigmoide(x): \n",
        "  return 1/(1+np.exp(-x)) \n"
      ],
      "execution_count": 40,
      "outputs": []
    },
    {
      "cell_type": "markdown",
      "metadata": {
        "id": "kHg06jEkJoKV"
      },
      "source": [
        "Aqui definimos uma classe chamada neuronio\n",
        "Nela utilizamos pesos e bias \n",
        "\n",
        "em feedforward definimos o produto entre pesos e os imputs. então somamos esses produtos e adicionamos o valore definido para bias\n",
        "\n",
        "Por fim aplicamos essa soma à função sigmoide"
      ]
    },
    {
      "cell_type": "code",
      "metadata": {
        "id": "cQhwu6vhAlD_"
      },
      "source": [
        "class neuronio:\n",
        "  def __init__ (self, peso,bias):\n",
        "    self.peso = pesos\n",
        "    self.bias = bias\n",
        "\n",
        "  def feedforward(self, inputs):\n",
        "    total = np.dot(self.peso,inputs)+self.bias\n",
        "    return sigmoide(total)\n"
      ],
      "execution_count": 42,
      "outputs": []
    },
    {
      "cell_type": "markdown",
      "metadata": {
        "id": "S7hiSQduJ_0g"
      },
      "source": [
        "Aqui passamos os valores desejados, primeiro para os pesos\n",
        "Depois invocamos a função neurnio descrita acima \n",
        "E por fim os valores de entrada\n"
      ]
    },
    {
      "cell_type": "code",
      "metadata": {
        "id": "mD2cFFAbEZmC"
      },
      "source": [
        "pesos = np.array([0,1,1,0]) \n",
        "bias = 4 \n",
        "n = neuronio(pesos, bias)\n",
        "x = np.array([2,3,1,0])  "
      ],
      "execution_count": 49,
      "outputs": []
    },
    {
      "cell_type": "markdown",
      "metadata": {
        "id": "p86il4qMKOaO"
      },
      "source": [
        "Pra finalizar imprimimos a função feedforward com o valor de x\n",
        "\n",
        "lembrando que feedforward é dado por:\n",
        "\n",
        "(w1*x1)+(w2*x2)+...+(wn*xn)+bias"
      ]
    },
    {
      "cell_type": "code",
      "metadata": {
        "colab": {
          "base_uri": "https://localhost:8080/"
        },
        "id": "v59c302aH_-u",
        "outputId": "3eebc8ad-eabd-4e95-bb08-2ca7626127aa"
      },
      "source": [
        "print(n.feedforward(x))"
      ],
      "execution_count": 50,
      "outputs": [
        {
          "output_type": "stream",
          "text": [
            "0.9996646498695336\n"
          ],
          "name": "stdout"
        }
      ]
    },
    {
      "cell_type": "markdown",
      "metadata": {
        "id": "O8iSJ5fzCUjw"
      },
      "source": [
        ""
      ]
    }
  ]
}