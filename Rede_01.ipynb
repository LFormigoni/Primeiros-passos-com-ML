{
  "nbformat": 4,
  "nbformat_minor": 0,
  "metadata": {
    "colab": {
      "name": "Rede 01",
      "provenance": [],
      "authorship_tag": "ABX9TyMUwSCdet56QvN1PCsnwuvO",
      "include_colab_link": true
    },
    "kernelspec": {
      "name": "python3",
      "display_name": "Python 3"
    },
    "language_info": {
      "name": "python"
    }
  },
  "cells": [
    {
      "cell_type": "markdown",
      "metadata": {
        "id": "view-in-github",
        "colab_type": "text"
      },
      "source": [
        "<a href=\"https://colab.research.google.com/github/LFormigoni/Primeiros-passos-com-ML/blob/main/Rede_01.ipynb\" target=\"_parent\"><img src=\"https://colab.research.google.com/assets/colab-badge.svg\" alt=\"Open In Colab\"/></a>"
      ]
    },
    {
      "cell_type": "markdown",
      "metadata": {
        "id": "yo_YjeGtNwo6"
      },
      "source": [
        "Nesse código vamos tratar de uma rede simples com 2 imputs, uma camada oculta e 2 neuronios na camada oculta\n",
        "![Captura de tela 2021-05-21 150602.png](data:image/png;base64,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)"
      ]
    },
    {
      "cell_type": "code",
      "metadata": {
        "id": "dTUPp4mbM6wQ"
      },
      "source": [
        "import numpy as np #utilizando a bibliooteca numpy\n"
      ],
      "execution_count": null,
      "outputs": []
    },
    {
      "cell_type": "markdown",
      "metadata": {
        "id": "5LwDljy_GdY2"
      },
      "source": [
        "Definindo a estrutura de um neuronio"
      ]
    },
    {
      "cell_type": "code",
      "metadata": {
        "id": "AtuIVf7AN6-G"
      },
      "source": [
        "def sigmoide(x):    #função sigmoide\n",
        "  return 1/(1+np.exp(-x)) \n",
        "\n",
        "class neuronio:     #definindo a classe neuronio\n",
        "  def __init__ (self, peso,bias):\n",
        "    self.peso = peso\n",
        "    self.bias = bias\n",
        "\n",
        "  def feedforwardneuronio(self, inputs):\n",
        "    total = np.dot(self.peso,inputs)+self.bias\n",
        "    return sigmoide(total)\n",
        "\n",
        "#a classe toma os valores do peso e do bias, recebe o valor de input \n",
        "#em seguida realiza o produto peso*input (Wn*Xn) e soma com o valor de bias ([Wn*Xn]+B)\n",
        "#por fim aplica o valor resultante à função sigmoide"
      ],
      "execution_count": null,
      "outputs": []
    },
    {
      "cell_type": "markdown",
      "metadata": {
        "id": "AoW5muVOGov_"
      },
      "source": [
        "Definindo o funcionamento da rede"
      ]
    },
    {
      "cell_type": "code",
      "metadata": {
        "id": "D_6KdYm6Gh0P"
      },
      "source": [
        "class NossaRN:      #definindo a classe 'NossaRN'\n",
        "  def __init__(self):\n",
        "    peso = np.array([0,1])     #atribui o array de pesos com valores 0 e 1\n",
        "    bias = 0                    #atribui bias = 0 \n",
        "\n",
        "    self.h1 = neuronio(peso,bias)   #aplica a classe de neuronio à h1 e h2\n",
        "    self.h2 = neuronio(peso,bias)\n",
        "    self.o1 = neuronio(peso,bias)   #define o neuronio da camada de saída\n",
        "\n",
        "  def  feedforward(self,x):      #define que as saídas de h1 e h2 sejam \"passadas adiante\" \n",
        "    out_h1 = self.h1.feedforwardneuronio(x)\n",
        "    out_h2 = self.h2.feedforwardneuronio(x)\n",
        "\n",
        "    out_o1 = self.o1.feedforwardneuronio(np.array([out_h1,out_h2]))  #define que a saída de o1 com base em h1 e h2\n",
        "    \n",
        "    return out_o1  #no final a função retorna o valor de saída "
      ],
      "execution_count": null,
      "outputs": []
    },
    {
      "cell_type": "markdown",
      "metadata": {
        "id": "nOIt-l6qIZRU"
      },
      "source": [
        "Nesse bloco é definido o aray dos inputs e impresso o resultado de saída"
      ]
    },
    {
      "cell_type": "code",
      "metadata": {
        "colab": {
          "base_uri": "https://localhost:8080/"
        },
        "id": "k-EeG1QkGkSz",
        "outputId": "348a8664-3815-4a01-9e87-541501f8f742"
      },
      "source": [
        "network = NossaRN()\n",
        "\n",
        "x = np.array([2,3])\n",
        "\n",
        "print(network.feedforward(x))"
      ],
      "execution_count": null,
      "outputs": [
        {
          "output_type": "stream",
          "text": [
            "0.7216325609518421\n"
          ],
          "name": "stdout"
        }
      ]
    }
  ]
}