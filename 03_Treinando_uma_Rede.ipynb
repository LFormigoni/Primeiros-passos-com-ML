{
  "nbformat": 4,
  "nbformat_minor": 0,
  "metadata": {
    "colab": {
      "name": "03 - Treinando uma Rede.ipynb",
      "provenance": [],
      "authorship_tag": "ABX9TyOiq0Kw8HVp3wjUImR3gHKT",
      "include_colab_link": true
    },
    "kernelspec": {
      "name": "python3",
      "display_name": "Python 3"
    },
    "language_info": {
      "name": "python"
    }
  },
  "cells": [
    {
      "cell_type": "markdown",
      "metadata": {
        "id": "view-in-github",
        "colab_type": "text"
      },
      "source": [
        "<a href=\"https://colab.research.google.com/github/LFormigoni/Primeiros-passos-com-ML/blob/main/03_Treinando_uma_Rede.ipynb\" target=\"_parent\"><img src=\"https://colab.research.google.com/assets/colab-badge.svg\" alt=\"Open In Colab\"/></a>"
      ]
    },
    {
      "cell_type": "markdown",
      "metadata": {
        "id": "I-sI-lc8Luhx"
      },
      "source": [
        "Iremos treinar a rede para predizer o genero de uma pessoa dado seu peso e altura\n",
        "![h1.png](data:image/png;base64,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)"
      ]
    },
    {
      "cell_type": "markdown",
      "metadata": {
        "id": "uHGgIWEoeTWk"
      },
      "source": [
        "Bibliotecas e definições que serão utilizadas"
      ]
    },
    {
      "cell_type": "code",
      "metadata": {
        "id": "POVT7UJ1LGMs"
      },
      "source": [
        "import numpy as np\n",
        "\n",
        "#definir a função Sigmoide\n",
        "def sigmoide(x):\n",
        "  return 1/(1+np.exp(-x))\n",
        "\n",
        "#define a derivada da função Sigmoide\n",
        "def sigmoide_derivada(x):\n",
        "  fx = sigmoide(x)\n",
        "  return fx*(1-fx)\n",
        "\n",
        "#define a perda da função erro quadratico médio (MSE)\n",
        "def mse_loss(y_real,y_calculado): #y_real é o valor real já y_calculado é o valor encontrado pela RN     \n",
        "  return ((y_real - y_calculado)**2).mean()\n"
      ],
      "execution_count": 1,
      "outputs": []
    },
    {
      "cell_type": "markdown",
      "metadata": {
        "id": "blcjE7ljeODL"
      },
      "source": [
        "Criação de classes e atribuição de valores "
      ]
    },
    {
      "cell_type": "code",
      "metadata": {
        "id": "ZZODepYedbBR"
      },
      "source": [
        "class RNclassificadora:\n",
        " #a função np.random.normal foi utilizada para atribuir valores aos pesos e vieses em cada neuronio, contudo a escolha dessa função é meramente ilustrativa\n",
        "  def __init__(self):\n",
        "    #pesos\n",
        "    self.w1 = np.random.normal()\n",
        "    self.w2 = np.random.normal()\n",
        "    self.w3 = np.random.normal()\n",
        "    self.w4 = np.random.normal()\n",
        "    self.w5 = np.random.normal()\n",
        "    self.w6 = np.random.normal()\n",
        "\n",
        "    #vieses\n",
        "    self.b1 = np.random.normal()\n",
        "    self.b2 = np.random.normal()\n",
        "    self.b3 = np.random.normal()\n",
        "\n",
        "  def feedforward(self,x):\n",
        "    h1 = sigmoide(self.w1 * x[0] +self.w2 * x[1] +self.b1)\n",
        "    h2 = sigmoide(self.w3 * x[0] +self.w4 * x[1] +self.b2)\n",
        "    o1 = sigmoide(self.w5 * h1 +self.w6 * h2 +self.b3)\n",
        "    return o1\n",
        "\n",
        "#treinaremos a rede utilizando todos os valores reais fornecidos\n",
        "  def treino(self, data, y_reais):\n",
        "    tx_aprend = 0.1\n",
        "    epocas = 1000 #é o número de loops que serão realizados\n",
        "\n",
        "    for epoca in range(epocas):\n",
        "      for x, y_real in zip(data,y_reais):\n",
        "        sum_h1 = self.w1 * x[0] + self.w2 * x[1] + self.b1\n",
        "        h1 = sigmoide(sum_h1)\n",
        "\n",
        "        sum_h2 = self.w3 * x[0] + self.w4 * x[1] + self.b2\n",
        "        h2 = sigmoide(sum_h2)\n",
        "\n",
        "        sum_o1 = self.w5 * h1 +self.w6 * h2 + self.b3\n",
        "        o1 = sigmoide(sum_o1)\n",
        "        y_calculado = o1\n",
        "\n",
        "#calculo das derivadas parciais\n",
        "#chamando dev_L_dev_calc a derivada parcial de L pela parcial de w1\n",
        "        dev_L_dev_calc = -2*(y_real - y_calculado)\n",
        "\n",
        "        #Neuronio o1\n",
        "        d_y_calc_d_w5 = h1 *sigmoide_derivada(sum_o1)\n",
        "        d_y_calc_d_w6 = h2 *sigmoide_derivada(sum_o1)\n",
        "        d_y_calc_d_b3 = sigmoide_derivada(sum_o1)\n",
        "\n",
        "        d_y_calc_d_h1 = self.w5 * sigmoide_derivada(sum_o1)\n",
        "        d_y_calc_d_h2 = self.w6 * sigmoide_derivada(sum_o1)\n",
        "\n",
        "        #Neuronio h1 \n",
        "        d_h1_d_w1 = x[0] * sigmoide_derivada(sum_h1)\n",
        "        d_h1_d_w2 = x[1] * sigmoide_derivada(sum_h1)\n",
        "        d_h1_d_b1 = sigmoide_derivada(sum_h1)\n",
        "\n",
        "        #Neuronio h2\n",
        "        d_h2_d_w3 = x[0] * sigmoide_derivada(sum_h2)\n",
        "        d_h2_d_w4 = x[1] * sigmoide_derivada(sum_h2)\n",
        "        d_h2_d_b2 = sigmoide_derivada(sum_h2)\n",
        "\n",
        "        #atualização de pesos e vieses\n",
        "        #neuronio h1\n",
        "        self.w1 -= tx_aprend * dev_L_dev_calc * d_y_calc_d_h1 * d_h1_d_w1\n",
        "        self.w2 -= tx_aprend * dev_L_dev_calc * d_y_calc_d_h1 * d_h1_d_w2\n",
        "        self.b1 -= tx_aprend * dev_L_dev_calc * d_y_calc_d_h1 * d_h1_d_b1\n",
        "\n",
        "        #neuronio h2\n",
        "        self.w3 -= tx_aprend * dev_L_dev_calc * d_y_calc_d_h2 * d_h2_d_w3\n",
        "        self.w4 -= tx_aprend * dev_L_dev_calc * d_y_calc_d_h2 * d_h2_d_w4\n",
        "        self.b2 -= tx_aprend * dev_L_dev_calc * d_y_calc_d_h2 * d_h2_d_b2\n",
        "\n",
        "        #Neuronio o1\n",
        "        self.w5 -= tx_aprend * dev_L_dev_calc * d_y_calc_d_w5\n",
        "        self.w6 -= tx_aprend * dev_L_dev_calc * d_y_calc_d_w6\n",
        "        self.b3 -= tx_aprend * dev_L_dev_calc * d_y_calc_d_b3\n",
        "\n",
        "      #calculo de perdas totais no final de cada época\n",
        "      if epoca % 10 == 0:\n",
        "        y_calculados  = np.apply_along_axis(self.feedforward, 1, data)\n",
        "        perda = mse_loss(y_reais,y_calculados)\n",
        "        print (\"Epoca %d perda equivalente à %.3f\" %(epoca,perda))\n",
        "\n"
      ],
      "execution_count": 2,
      "outputs": []
    },
    {
      "cell_type": "markdown",
      "metadata": {
        "id": "sw8fATcUlUmy"
      },
      "source": [
        "Definindo o dataset de treinamento, considerando o primeiro valor o peso em kg e a altura em cm\n",
        "\n",
        "Para os y reais adotamos 1 para mulheres e 0 para homens\n"
      ]
    },
    {
      "cell_type": "code",
      "metadata": {
        "colab": {
          "base_uri": "https://localhost:8080/"
        },
        "id": "vrxcB0malT67",
        "outputId": "ed54baa1-a1ab-4c9c-ceb3-091995a62981"
      },
      "source": [
        "data = np.array([\n",
        "                 [60,165], #ana\n",
        "                 [72,182], #joao\n",
        "                 [68,172], #jose\n",
        "                 [54,60], #maria\n",
        "])\n",
        "y_reais = np.array([\n",
        "                    1,  #ana\n",
        "                    0,  #joao\n",
        "                    0,  #jose\n",
        "                    1,  #maria\n",
        "])\n",
        "\n",
        "rede = RNclassificadora()\n",
        "\n",
        "rede.treino(data, y_reais)"
      ],
      "execution_count": 3,
      "outputs": [
        {
          "output_type": "stream",
          "text": [
            "Epoca 0 perda equivalente à 0.288\n",
            "Epoca 10 perda equivalente à 0.267\n",
            "Epoca 20 perda equivalente à 0.257\n",
            "Epoca 30 perda equivalente à 0.253\n",
            "Epoca 40 perda equivalente à 0.251\n",
            "Epoca 50 perda equivalente à 0.250\n",
            "Epoca 60 perda equivalente à 0.250\n",
            "Epoca 70 perda equivalente à 0.250\n",
            "Epoca 80 perda equivalente à 0.250\n",
            "Epoca 90 perda equivalente à 0.250\n",
            "Epoca 100 perda equivalente à 0.250\n",
            "Epoca 110 perda equivalente à 0.250\n",
            "Epoca 120 perda equivalente à 0.250\n",
            "Epoca 130 perda equivalente à 0.250\n",
            "Epoca 140 perda equivalente à 0.250\n",
            "Epoca 150 perda equivalente à 0.250\n",
            "Epoca 160 perda equivalente à 0.250\n",
            "Epoca 170 perda equivalente à 0.250\n",
            "Epoca 180 perda equivalente à 0.250\n",
            "Epoca 190 perda equivalente à 0.250\n",
            "Epoca 200 perda equivalente à 0.250\n",
            "Epoca 210 perda equivalente à 0.250\n",
            "Epoca 220 perda equivalente à 0.250\n",
            "Epoca 230 perda equivalente à 0.250\n",
            "Epoca 240 perda equivalente à 0.250\n",
            "Epoca 250 perda equivalente à 0.250\n",
            "Epoca 260 perda equivalente à 0.250\n",
            "Epoca 270 perda equivalente à 0.250\n",
            "Epoca 280 perda equivalente à 0.250\n",
            "Epoca 290 perda equivalente à 0.250\n",
            "Epoca 300 perda equivalente à 0.250\n",
            "Epoca 310 perda equivalente à 0.250\n",
            "Epoca 320 perda equivalente à 0.250\n",
            "Epoca 330 perda equivalente à 0.250\n",
            "Epoca 340 perda equivalente à 0.250\n",
            "Epoca 350 perda equivalente à 0.250\n",
            "Epoca 360 perda equivalente à 0.250\n",
            "Epoca 370 perda equivalente à 0.250\n",
            "Epoca 380 perda equivalente à 0.250\n",
            "Epoca 390 perda equivalente à 0.250\n",
            "Epoca 400 perda equivalente à 0.250\n",
            "Epoca 410 perda equivalente à 0.250\n",
            "Epoca 420 perda equivalente à 0.250\n",
            "Epoca 430 perda equivalente à 0.250\n",
            "Epoca 440 perda equivalente à 0.250\n",
            "Epoca 450 perda equivalente à 0.250\n",
            "Epoca 460 perda equivalente à 0.250\n",
            "Epoca 470 perda equivalente à 0.250\n",
            "Epoca 480 perda equivalente à 0.250\n",
            "Epoca 490 perda equivalente à 0.250\n",
            "Epoca 500 perda equivalente à 0.250\n",
            "Epoca 510 perda equivalente à 0.250\n",
            "Epoca 520 perda equivalente à 0.250\n",
            "Epoca 530 perda equivalente à 0.250\n",
            "Epoca 540 perda equivalente à 0.250\n",
            "Epoca 550 perda equivalente à 0.250\n",
            "Epoca 560 perda equivalente à 0.250\n",
            "Epoca 570 perda equivalente à 0.250\n",
            "Epoca 580 perda equivalente à 0.250\n",
            "Epoca 590 perda equivalente à 0.250\n",
            "Epoca 600 perda equivalente à 0.250\n",
            "Epoca 610 perda equivalente à 0.250\n",
            "Epoca 620 perda equivalente à 0.250\n",
            "Epoca 630 perda equivalente à 0.250\n",
            "Epoca 640 perda equivalente à 0.250\n",
            "Epoca 650 perda equivalente à 0.250\n",
            "Epoca 660 perda equivalente à 0.250\n",
            "Epoca 670 perda equivalente à 0.250\n",
            "Epoca 680 perda equivalente à 0.250\n",
            "Epoca 690 perda equivalente à 0.250\n",
            "Epoca 700 perda equivalente à 0.250\n",
            "Epoca 710 perda equivalente à 0.250\n",
            "Epoca 720 perda equivalente à 0.250\n",
            "Epoca 730 perda equivalente à 0.250\n",
            "Epoca 740 perda equivalente à 0.250\n",
            "Epoca 750 perda equivalente à 0.250\n",
            "Epoca 760 perda equivalente à 0.250\n",
            "Epoca 770 perda equivalente à 0.250\n",
            "Epoca 780 perda equivalente à 0.250\n",
            "Epoca 790 perda equivalente à 0.250\n",
            "Epoca 800 perda equivalente à 0.250\n",
            "Epoca 810 perda equivalente à 0.250\n",
            "Epoca 820 perda equivalente à 0.250\n",
            "Epoca 830 perda equivalente à 0.250\n",
            "Epoca 840 perda equivalente à 0.250\n",
            "Epoca 850 perda equivalente à 0.250\n",
            "Epoca 860 perda equivalente à 0.250\n",
            "Epoca 870 perda equivalente à 0.250\n",
            "Epoca 880 perda equivalente à 0.250\n",
            "Epoca 890 perda equivalente à 0.250\n",
            "Epoca 900 perda equivalente à 0.250\n",
            "Epoca 910 perda equivalente à 0.250\n",
            "Epoca 920 perda equivalente à 0.250\n",
            "Epoca 930 perda equivalente à 0.250\n",
            "Epoca 940 perda equivalente à 0.250\n",
            "Epoca 950 perda equivalente à 0.250\n",
            "Epoca 960 perda equivalente à 0.250\n",
            "Epoca 970 perda equivalente à 0.250\n",
            "Epoca 980 perda equivalente à 0.250\n",
            "Epoca 990 perda equivalente à 0.250\n"
          ],
          "name": "stdout"
        }
      ]
    },
    {
      "cell_type": "markdown",
      "metadata": {
        "id": "UWNxIax5KFT0"
      },
      "source": [
        "Testando a rede \n"
      ]
    },
    {
      "cell_type": "code",
      "metadata": {
        "colab": {
          "base_uri": "https://localhost:8080/"
        },
        "id": "CIkhCwI-KC_6",
        "outputId": "7765e793-f7ea-4909-b93b-3ae1cacb87ef"
      },
      "source": [
        "nath = np.array([60, 165])\n",
        "leandro = np.array([83,179])\n",
        "\n",
        "print(\"Nathália : %.3f\" % rede.feedforward(nath))  #Lembrando, valores próximos a 1 = feminino\n",
        "print(\"Leandro : %.3f\" % rede.feedforward(leandro))  #Valores próximos a 0 = masculino"
      ],
      "execution_count": 4,
      "outputs": [
        {
          "output_type": "stream",
          "text": [
            "Nathália : 0.500\n",
            "Leandro : 0.500\n"
          ],
          "name": "stdout"
        }
      ]
    }
  ]
}